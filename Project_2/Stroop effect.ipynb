{
 "cells": [
  {
   "cell_type": "markdown",
   "metadata": {},
   "source": [
    "<center><h1>Stroop effect : Test a Perceptual Phenomenon </h1></center>"
   ]
  },
  {
   "cell_type": "markdown",
   "metadata": {},
   "source": [
    "## Introduction"
   ]
  },
  {
   "cell_type": "markdown",
   "metadata": {},
   "source": [
    "Stroop effect means demonstration of interference in the reaction time of a task. This tests consist of two conditions:"
   ]
  },
  {
   "cell_type": "markdown",
   "metadata": {},
   "source": [
    "- **Congruent Words Condition**\n",
    "\n",
    "    - In this condition, participant is asked to read the color of words, where all words are color names and having same color as name. For example : <font color='red'>RED</font>  <font color='yellow'>YELLOW</font>\n",
    "\n",
    "- **Incongruent Words Condition**\n",
    "\n",
    "    - In this condition, participant is asked to read the color of words, where all words are color names and having different color then word name. For example : <font color='green'>BLUE</font>  <font color='red'>PINK</font>\n",
    "\n",
    "- In both cases, the time taken to name the ink colors are measured in equally-sized lists."
   ]
  },
  {
   "cell_type": "markdown",
   "metadata": {},
   "source": [
    "## Investigation"
   ]
  },
  {
   "cell_type": "markdown",
   "metadata": {},
   "source": [
    "### 1. What is our independent variable? What is our dependent variable?"
   ]
  },
  {
   "cell_type": "markdown",
   "metadata": {},
   "source": [
    "- Dependent Variable : Reaction time of the participant\n",
    "\n",
    "- Independent Variable : Color congruency to word name, means if the test is in congruent words condition or incongruent words condition.\n"
   ]
  },
  {
   "cell_type": "markdown",
   "metadata": {},
   "source": [
    "### 2. What is an appropriate set of hypotheses for this task? What kind of statistical test do you expect to perform? Justify your choices."
   ]
  },
  {
   "cell_type": "markdown",
   "metadata": {},
   "source": [
    "- **Hypothesis** : (at **alpha level of 0.05**)\n",
    "    - H<sub>o</sub> - There is no significant difference between the reaction times noted in both conditions.$(\\mu_{cong} = \\mu_{incong})$\n",
    "    - H<sub>a</sub> - There is a significant difference between the reaction times noted in both conditions. \n",
    "     $(\\mu_{cong} \\neq \\mu_{incong})$\n",
    " \n",
    "    Where, \n",
    "        - $\\mu_{cong}$ = Population mean from which congruent words test sample is derived \n",
    "        - $\\mu_{incong}$ = Population mean from which incongruent words test sample is derived\n",
    "- Reason to choose this hypothesis :\n",
    " When, i took the test myself from [this link](https://faculty.washington.edu/chudler/java/ready.html), my reaction time from congruent words condition differed by 20 secs from the reaction time of incongruent words condition! Also, the results, shown at the end of test, displayed the same for most of the people who took the test. Hence, there must be a difference in central tendecies of the population. Above mentioned hypothesis does just the same. It is very useful for comparing results for their equality."
   ]
  },
  {
   "cell_type": "markdown",
   "metadata": {},
   "source": [
    "- **Test to be performed** : Two tailed dependent sample T-test.\n",
    "\n",
    "- Reasons to choose :\n",
    "Here, we going to compare results of two samples from same population in two different conditions. Also, considering presence of outliers in the data, use of t-test will ensure robustness. And T-test are well suited when sample size is small(we have sample of only 24 records). "
   ]
  },
  {
   "cell_type": "markdown",
   "metadata": {},
   "source": [
    "### 3. Report some descriptive statistics regarding this dataset. Include at least one measure of central tendency and at least one measure of variability."
   ]
  },
  {
   "cell_type": "code",
   "execution_count": 135,
   "metadata": {},
   "outputs": [],
   "source": [
    "#importing libraries which will be needed for calculations\n",
    "\n",
    "import numpy as np\n",
    "import pandas as pd\n",
    "import matplotlib.pyplot as plt\n",
    "from scipy.stats import ttest_rel\n",
    "from scipy.stats import t"
   ]
  },
  {
   "cell_type": "code",
   "execution_count": 136,
   "metadata": {},
   "outputs": [
    {
     "data": {
      "text/html": [
       "<div>\n",
       "<style scoped>\n",
       "    .dataframe tbody tr th:only-of-type {\n",
       "        vertical-align: middle;\n",
       "    }\n",
       "\n",
       "    .dataframe tbody tr th {\n",
       "        vertical-align: top;\n",
       "    }\n",
       "\n",
       "    .dataframe thead th {\n",
       "        text-align: right;\n",
       "    }\n",
       "</style>\n",
       "<table border=\"1\" class=\"dataframe\">\n",
       "  <thead>\n",
       "    <tr style=\"text-align: right;\">\n",
       "      <th></th>\n",
       "      <th>Congruent</th>\n",
       "      <th>Incongruent</th>\n",
       "    </tr>\n",
       "  </thead>\n",
       "  <tbody>\n",
       "    <tr>\n",
       "      <th>count</th>\n",
       "      <td>24.000000</td>\n",
       "      <td>24.000000</td>\n",
       "    </tr>\n",
       "    <tr>\n",
       "      <th>mean</th>\n",
       "      <td>14.051125</td>\n",
       "      <td>22.015917</td>\n",
       "    </tr>\n",
       "    <tr>\n",
       "      <th>std</th>\n",
       "      <td>3.559358</td>\n",
       "      <td>4.797057</td>\n",
       "    </tr>\n",
       "    <tr>\n",
       "      <th>min</th>\n",
       "      <td>8.630000</td>\n",
       "      <td>15.687000</td>\n",
       "    </tr>\n",
       "    <tr>\n",
       "      <th>25%</th>\n",
       "      <td>11.895250</td>\n",
       "      <td>18.716750</td>\n",
       "    </tr>\n",
       "    <tr>\n",
       "      <th>50%</th>\n",
       "      <td>14.356500</td>\n",
       "      <td>21.017500</td>\n",
       "    </tr>\n",
       "    <tr>\n",
       "      <th>75%</th>\n",
       "      <td>16.200750</td>\n",
       "      <td>24.051500</td>\n",
       "    </tr>\n",
       "    <tr>\n",
       "      <th>max</th>\n",
       "      <td>22.328000</td>\n",
       "      <td>35.255000</td>\n",
       "    </tr>\n",
       "  </tbody>\n",
       "</table>\n",
       "</div>"
      ],
      "text/plain": [
       "       Congruent  Incongruent\n",
       "count  24.000000    24.000000\n",
       "mean   14.051125    22.015917\n",
       "std     3.559358     4.797057\n",
       "min     8.630000    15.687000\n",
       "25%    11.895250    18.716750\n",
       "50%    14.356500    21.017500\n",
       "75%    16.200750    24.051500\n",
       "max    22.328000    35.255000"
      ]
     },
     "execution_count": 136,
     "metadata": {},
     "output_type": "execute_result"
    }
   ],
   "source": [
    "#loading data \n",
    "df = pd.read_csv('stroopdata.csv')\n",
    "\n",
    "#using inbuilt function to get descriptive statistics for the given data\n",
    "df.describe()"
   ]
  },
  {
   "cell_type": "markdown",
   "metadata": {},
   "source": [
    "- As you can see in above output, we got descriptive statstics like Mean, standard deviation etc. for the data"
   ]
  },
  {
   "cell_type": "markdown",
   "metadata": {},
   "source": [
    "### 4. Provide one or two visualizations that show the distribution of the sample data. Write one or two sentences noting what you observe about the plot or plots."
   ]
  },
  {
   "cell_type": "code",
   "execution_count": 137,
   "metadata": {},
   "outputs": [
    {
     "data": {
      "text/plain": [
       "array([[<matplotlib.axes._subplots.AxesSubplot object at 0x7fde4f0e80d0>,\n",
       "        <matplotlib.axes._subplots.AxesSubplot object at 0x7fde4eef7dd0>]], dtype=object)"
      ]
     },
     "execution_count": 137,
     "metadata": {},
     "output_type": "execute_result"
    },
    {
     "data": {
      "image/png": "[encoded data removed]",
      "text/plain": [
       "<matplotlib.figure.Figure at 0x7fde4f7b34d0>"
      ]
     },
     "metadata": {},
     "output_type": "display_data"
    }
   ],
   "source": [
    "#plotting histogram for given data\n",
    "df.hist()"
   ]
  },
  {
   "cell_type": "markdown",
   "metadata": {},
   "source": [
    "- From the histogram of congruent words condition, we can clearly see that 2/3 of the participants have reaction time less than 15 secs, which is near to sample mean. In incongruent words histogram, we can see high reaction times as well as we can notice some outliers."
   ]
  },
  {
   "cell_type": "code",
   "execution_count": 138,
   "metadata": {},
   "outputs": [
    {
     "data": {
      "image/png": "[encoded data removed]",
      "text/plain": [
       "<matplotlib.figure.Figure at 0x7fde4f1475d0>"
      ]
     },
     "metadata": {},
     "output_type": "display_data"
    }
   ],
   "source": [
    "#plotting scatter plot comparing reaction time in both the conditions\n",
    "\n",
    "cong = plt.scatter(df['Congruent'],range(24),marker='o', color='c')\n",
    "incong = plt.scatter(df['Incongruent'],range(24),marker='o', color='m')\n",
    "\n",
    "plt.title(\"Comparision of reaction time in congruent words condition and incongruent words condition\")\n",
    "plt.xlabel('Reaction time')\n",
    "plt.ylabel('Participants')\n",
    "plt.legend((cong, incong),\n",
    "               ('Congruent words condition', 'Incongruent words condition'),\n",
    "               scatterpoints=1,\n",
    "               loc='upper right',\n",
    "               ncol=2,\n",
    "               fontsize=8)\n",
    "plt.show()"
   ]
  },
  {
   "cell_type": "markdown",
   "metadata": {},
   "source": [
    "- From the plot, it is clearly visible that, range for reaction times, in congruent words condition, is ~7 to ~17 and in incongruent words condition, it is ~17 to ~27 for most of the participant. So, It can be infered **from the graph** that, reaction times for congruent condition is significantly different from the reaction times of inconruent words condition."
   ]
  },
  {
   "cell_type": "markdown",
   "metadata": {},
   "source": [
    "### 5. Now, perform the statistical test and report your results. What is your confidence level and your critical statistic value? Do you reject the null hypothesis or fail to reject it? Come to a conclusion in terms of the experiment task. Did the results match up with your expectations?"
   ]
  },
  {
   "cell_type": "markdown",
   "metadata": {},
   "source": [
    "#### Calculating results for Two tailed dependent sample T-test"
   ]
  },
  {
   "cell_type": "code",
   "execution_count": 139,
   "metadata": {},
   "outputs": [
    {
     "name": "stdout",
     "output_type": "stream",
     "text": [
      " t-critical value =  2.069\n",
      " Mean Difference = -7.965\n",
      " Standar Error =  2.668 \n",
      " Degrees of Freedom = 23\n",
      " t-statistic = -8.021 \n",
      " p_value = 0.000000\n",
      " 95% Confidence Interval: (-13.4842, -2.4454)\n"
     ]
    }
   ],
   "source": [
    "#using inbuilt functions of numpy and scipy libs to calculate results\n",
    "cong = np.asarray(df['Congruent'])\n",
    "incong = np.asarray(df['Incongruent'])\n",
    "\n",
    "df = cong.shape[0] - 1\n",
    "se = np.sqrt(np.std(cong, ddof=1)+np.std(cong, ddof=1))\n",
    "mean_diff = np.mean(cong) - np.mean(incong)\n",
    "t_critical = t.isf([0.025], [[df]])[0][0]\n",
    "moe = t_critical * se\n",
    "    \n",
    "print ' t-critical value = %6.3f' % t_critical\n",
    "print ' Mean Difference = %6.3f' % mean_diff\n",
    "print ' Standar Error = %6.3f \\n Degrees of Freedom = %d' % (se, df)\n",
    "print ' t-statistic = %6.3f \\n p_value = %f' % ttest_rel(cong, incong)\n",
    "print ' 95%' + ' Confidence Interval: (%6.4f, %6.4f)' % (mean_diff - moe, mean_diff + moe)\n"
   ]
  },
  {
   "cell_type": "markdown",
   "metadata": {},
   "source": [
    "- Here, we got the necessary test results. \n",
    "\n",
    "#### Inference\n",
    "- From the above results, we can clearly see that, **p_value is less than\n",
    "  $\\alpha$-value of 0.025 (for two tailed test)**, Hence, we **reject the null hypothesis H<sub>o</sub>**.\n",
    "\n",
    "- Thus, it is infered that reaction time for congruent words test is significantly different from the reaction time of incongruent words test.\n",
    "- This results are as per my expectation."
   ]
  },
  {
   "cell_type": "markdown",
   "metadata": {},
   "source": [
    "## References"
   ]
  },
  {
   "cell_type": "markdown",
   "metadata": {},
   "source": [
    "1. https://en.wikipedia.org/wiki/Stroop_effect\n",
    "\n",
    "2. https://matplotlib.org/api/pyplot_api.html\n",
    "\n",
    "3. http://pandas.pydata.org/pandas-docs/stable/\n",
    "\n",
    "4. https://stackoverflow.com/questions/tagged/numpy\n",
    "\n",
    "5. https://stackoverflow.com/questions/tagged/pandas\n",
    "\n",
    "6. https://stackoverflow.com/questions/tagged/matplotlib\n",
    "\n",
    "7. https://stackoverflow.com/questions/tagged/ipython\n",
    "\n",
    "8. https://docs.scipy.org/doc/\n",
    "\n",
    "9. http://support.minitab.com/en-us/minitab-express/1/help-and-how-to/basic-statistics/inference/supporting-topics/basics/using-a-confidence-interval/"
   ]
  }
 ],
 "metadata": {
  "kernelspec": {
   "display_name": "Python 2",
   "language": "python",
   "name": "python2"
  },
  "language_info": {
   "codemirror_mode": {
    "name": "ipython",
    "version": 2
   },
   "file_extension": ".py",
   "mimetype": "text/x-python",
   "name": "python",
   "nbconvert_exporter": "python",
   "pygments_lexer": "ipython2",
   "version": "2.7.14"
  }
 },
 "nbformat": 4,
 "nbformat_minor": 2
}
