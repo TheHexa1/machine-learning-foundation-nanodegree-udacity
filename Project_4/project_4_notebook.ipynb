{
 "cells": [
  {
   "cell_type": "markdown",
   "metadata": {},
   "source": [
    "# Project: Investigate a Dataset (TMDb movie data)\n",
    "\n",
    "## Table of Contents\n",
    "<ul>\n",
    "<li><a href=\"#intro\">Introduction</a></li>\n",
    "<li><a href=\"#wrangling\">Data Wrangling</a></li>\n",
    "<li><a href=\"#eda\">Exploratory Data Analysis</a></li>\n",
    "<li><a href=\"#conclusions\">Conclusions</a></li>\n",
    "</ul>"
   ]
  },
  {
   "cell_type": "markdown",
   "metadata": {},
   "source": [
    "<a id='intro'></a>\n",
    "## Introduction\n",
    "\n",
    "- This data set contains information about 10,000+ movies collected from The Movie Database (TMDb), with data_columns like user ratings, revenue, budget etc. to name a few. I am fond of watching movies in my free time. Hence, I got curious in analyzing movies data and selected this data set for my porject.\n",
    "- After having superficial look at the data, I have come up with following questions, for which i want to get answers from the dataset :\n",
    "    1. Top 10 highest grossing movies by revenue (without adjusted inflation).\n",
    "    2. Top 10 highest grossing movies by revenue (with adjusted for inflation).\n",
    "    3. Genres with the number movies made in that.\n",
    "    4. What kinds of properties are associated with movies that have high revenues? (I took this question directly from the example questions give in project details. Of course, I am interested in getting answer to this question)"
   ]
  },
  {
   "cell_type": "markdown",
   "metadata": {},
   "source": [
    "- First, I have imported all necessary libraries which will be useful throughout the project.\n",
    "- Also, I have included **%matplotlib inline** to utilize jupyter notebook's magic feature. This line of code will allow me to directly plot graphs in same notebook window as well as without using **plot.show()** function!"
   ]
  },
  {
   "cell_type": "code",
   "execution_count": 46,
   "metadata": {},
   "outputs": [],
   "source": [
    "#importing all necessary libraries for the project\n",
    "import numpy as np\n",
    "import pandas as pd\n",
    "import matplotlib.pyplot as plt\n",
    "import seaborn as sns\n",
    "\n",
    "#below line is used for showing matplotlib visualizations in same notebook window\n",
    "%matplotlib inline"
   ]
  },
  {
   "cell_type": "markdown",
   "metadata": {},
   "source": [
    "<a id='wrangling'></a>\n",
    "## Data Wrangling"
   ]
  },
  {
   "cell_type": "markdown",
   "metadata": {},
   "source": [
    "- For data cleaning, I am loading csv dataset into pandas dataframe. DataFrames have better functionalities as compared to numpy arrays, so i am going with DataFrames.\n",
    "- Next, I am printing first few rows of dataset to have a superficial look at data as well as data types for each column.\n",
    "- Then, I am printing datatypes of all the columns to make sure that respective columns have necessary datatypes."
   ]
  },
  {
   "cell_type": "code",
   "execution_count": 47,
   "metadata": {},
   "outputs": [
    {
     "name": "stdout",
     "output_type": "stream",
     "text": [
      "       id    imdb_id  popularity     budget     revenue  \\\n",
      "0  135397  tt0369610   32.985763  150000000  1513528810   \n",
      "1   76341  tt1392190   28.419936  150000000   378436354   \n",
      "2  262500  tt2908446   13.112507  110000000   295238201   \n",
      "3  140607  tt2488496   11.173104  200000000  2068178225   \n",
      "4  168259  tt2820852    9.335014  190000000  1506249360   \n",
      "\n",
      "                 original_title  \\\n",
      "0                Jurassic World   \n",
      "1            Mad Max: Fury Road   \n",
      "2                     Insurgent   \n",
      "3  Star Wars: The Force Awakens   \n",
      "4                     Furious 7   \n",
      "\n",
      "                                                cast  \\\n",
      "0  Chris Pratt|Bryce Dallas Howard|Irrfan Khan|Vi...   \n",
      "1  Tom Hardy|Charlize Theron|Hugh Keays-Byrne|Nic...   \n",
      "2  Shailene Woodley|Theo James|Kate Winslet|Ansel...   \n",
      "3  Harrison Ford|Mark Hamill|Carrie Fisher|Adam D...   \n",
      "4  Vin Diesel|Paul Walker|Jason Statham|Michelle ...   \n",
      "\n",
      "                                            homepage          director  \\\n",
      "0                      http://www.jurassicworld.com/   Colin Trevorrow   \n",
      "1                        http://www.madmaxmovie.com/     George Miller   \n",
      "2     http://www.thedivergentseries.movie/#insurgent  Robert Schwentke   \n",
      "3  http://www.starwars.com/films/star-wars-episod...       J.J. Abrams   \n",
      "4                           http://www.furious7.com/         James Wan   \n",
      "\n",
      "                         tagline      ...       \\\n",
      "0              The park is open.      ...        \n",
      "1             What a Lovely Day.      ...        \n",
      "2     One Choice Can Destroy You      ...        \n",
      "3  Every generation has a story.      ...        \n",
      "4            Vengeance Hits Home      ...        \n",
      "\n",
      "                                            overview runtime  \\\n",
      "0  Twenty-two years after the events of Jurassic ...     124   \n",
      "1  An apocalyptic story set in the furthest reach...     120   \n",
      "2  Beatrice Prior must confront her inner demons ...     119   \n",
      "3  Thirty years after defeating the Galactic Empi...     136   \n",
      "4  Deckard Shaw seeks revenge against Dominic Tor...     137   \n",
      "\n",
      "                                      genres  \\\n",
      "0  Action|Adventure|Science Fiction|Thriller   \n",
      "1  Action|Adventure|Science Fiction|Thriller   \n",
      "2         Adventure|Science Fiction|Thriller   \n",
      "3   Action|Adventure|Science Fiction|Fantasy   \n",
      "4                      Action|Crime|Thriller   \n",
      "\n",
      "                                production_companies release_date vote_count  \\\n",
      "0  Universal Studios|Amblin Entertainment|Legenda...       6/9/15       5562   \n",
      "1  Village Roadshow Pictures|Kennedy Miller Produ...      5/13/15       6185   \n",
      "2  Summit Entertainment|Mandeville Films|Red Wago...      3/18/15       2480   \n",
      "3          Lucasfilm|Truenorth Productions|Bad Robot     12/15/15       5292   \n",
      "4  Universal Pictures|Original Film|Media Rights ...       4/1/15       2947   \n",
      "\n",
      "   vote_average  release_year    budget_adj   revenue_adj  \n",
      "0           6.5          2015  1.379999e+08  1.392446e+09  \n",
      "1           7.1          2015  1.379999e+08  3.481613e+08  \n",
      "2           6.3          2015  1.012000e+08  2.716190e+08  \n",
      "3           7.5          2015  1.839999e+08  1.902723e+09  \n",
      "4           7.3          2015  1.747999e+08  1.385749e+09  \n",
      "\n",
      "[5 rows x 21 columns]\n",
      "id                        int64\n",
      "imdb_id                  object\n",
      "popularity              float64\n",
      "budget                    int64\n",
      "revenue                   int64\n",
      "original_title           object\n",
      "cast                     object\n",
      "homepage                 object\n",
      "director                 object\n",
      "tagline                  object\n",
      "keywords                 object\n",
      "overview                 object\n",
      "runtime                   int64\n",
      "genres                   object\n",
      "production_companies     object\n",
      "release_date             object\n",
      "vote_count                int64\n",
      "vote_average            float64\n",
      "release_year              int64\n",
      "budget_adj              float64\n",
      "revenue_adj             float64\n",
      "dtype: object\n"
     ]
    }
   ],
   "source": [
    "#load data into movies dataframe\n",
    "movies = pd.read_csv('tmdb-movies.csv')\n",
    "\n",
    "#printing few rows of dataset\n",
    "print movies.head()\n",
    "\n",
    "#printing datatypes of each column in dataframe/table\n",
    "print movies.dtypes    "
   ]
  },
  {
   "cell_type": "markdown",
   "metadata": {},
   "source": [
    "- As, We can see in the output, columns **revenue_adj** and **budget_adj** have values in scientific format and their data type is float64.\n",
    "- But, I need **revenue_adj** and **budget_adj** column values to be in integer format for my analysis. So first, i am converting these column values from float format to integer format\n",
    "- Lastly, printing their data types to confirm the conversion"
   ]
  },
  {
   "cell_type": "code",
   "execution_count": 48,
   "metadata": {},
   "outputs": [
    {
     "name": "stdout",
     "output_type": "stream",
     "text": [
      "revenue_adj    int64\n",
      "budget_adj     int64\n",
      "dtype: object\n"
     ]
    }
   ],
   "source": [
    "#assigning integer data type to revenue_adj and budget_adj columns\n",
    "movies[['revenue_adj', 'budget_adj']] = movies[['revenue_adj', 'budget_adj']].astype(int)\n",
    "\n",
    "#print data types of revenue_adj and budget_adj to confirm \n",
    "print movies[['revenue_adj', 'budget_adj']].dtypes"
   ]
  },
  {
   "cell_type": "markdown",
   "metadata": {},
   "source": [
    "- Other thing, I noticed in output of dataset, is that, there are many unnecessary columns, *which I am neither going to use in analysis nor I am interested in knowing*.\n",
    "- Thus, I am removing them from the dataset"
   ]
  },
  {
   "cell_type": "code",
   "execution_count": 92,
   "metadata": {},
   "outputs": [],
   "source": [
    "#checking if 'movies' contains columns to prevent error while re-running this cell\n",
    "if {'popularity','imdb_id', 'homepage', 'production_companies', 'tagline', 'keywords', 'overview', \n",
    "             'release_date'}.issubset(movies.columns):\n",
    "    #removing unnecessary coulmns from the movies dataframe\n",
    "    movies.drop(['popularity','imdb_id', 'homepage', 'production_companies', 'tagline', 'keywords', 'overview', \n",
    "             'release_date'], axis=1, inplace = True)"
   ]
  },
  {
   "cell_type": "markdown",
   "metadata": {},
   "source": [
    "- Printing dataframe to confirm the output of previous operation"
   ]
  },
  {
   "cell_type": "code",
   "execution_count": 93,
   "metadata": {},
   "outputs": [
    {
     "name": "stdout",
     "output_type": "stream",
     "text": [
      "       id     budget     revenue                original_title  \\\n",
      "0  135397  150000000  1513528810                Jurassic World   \n",
      "1   76341  150000000   378436354            Mad Max: Fury Road   \n",
      "2  262500  110000000   295238201                     Insurgent   \n",
      "3  140607  200000000  2068178225  Star Wars: The Force Awakens   \n",
      "4  168259  190000000  1506249360                     Furious 7   \n",
      "\n",
      "                                                cast          director  \\\n",
      "0  Chris Pratt|Bryce Dallas Howard|Irrfan Khan|Vi...   Colin Trevorrow   \n",
      "1  Tom Hardy|Charlize Theron|Hugh Keays-Byrne|Nic...     George Miller   \n",
      "2  Shailene Woodley|Theo James|Kate Winslet|Ansel...  Robert Schwentke   \n",
      "3  Harrison Ford|Mark Hamill|Carrie Fisher|Adam D...       J.J. Abrams   \n",
      "4  Vin Diesel|Paul Walker|Jason Statham|Michelle ...         James Wan   \n",
      "\n",
      "   runtime                                     genres  vote_count  \\\n",
      "0      124  Action|Adventure|Science Fiction|Thriller        5562   \n",
      "1      120  Action|Adventure|Science Fiction|Thriller        6185   \n",
      "2      119         Adventure|Science Fiction|Thriller        2480   \n",
      "3      136   Action|Adventure|Science Fiction|Fantasy        5292   \n",
      "4      137                      Action|Crime|Thriller        2947   \n",
      "\n",
      "   vote_average  release_year  budget_adj  revenue_adj  \n",
      "0           6.5          2015   137999939   1392445892  \n",
      "1           7.1          2015   137999939    348161292  \n",
      "2           6.3          2015   101199955    271619025  \n",
      "3           7.5          2015   183999919   1902723129  \n",
      "4           7.3          2015   174799923   1385748801  \n"
     ]
    }
   ],
   "source": [
    "#print first 5 rows of dataframe\n",
    "print movies.head(5)"
   ]
  },
  {
   "cell_type": "markdown",
   "metadata": {},
   "source": [
    "- While having peripheral look at the original dataset file, I found out that, there are some records with revenue being 0 implying revenue for that perticular movie is not available! Hence, I won't be able to use them for movie revenues related analysis.\n",
    "- Thus, I will simply filter out the records having non zero revenues. As, adjusted revenues for inflation depend on original revenues, those records, having '0' as revenue_adj value, will be removed too."
   ]
  },
  {
   "cell_type": "code",
   "execution_count": 94,
   "metadata": {},
   "outputs": [
    {
     "name": "stdout",
     "output_type": "stream",
     "text": [
      "2\n"
     ]
    }
   ],
   "source": [
    "#removing all rows with movies, which have revenue = 0$\n",
    "movies_with_non_zero_revenue = movies[movies.revenue != 0] \n",
    "\n",
    "#printing lowest revenue value to confirm only records with non-zero revenues are reamining.\n",
    "print movies_with_non_zero_revenue['revenue'].min()"
   ]
  },
  {
   "cell_type": "markdown",
   "metadata": {},
   "source": [
    "<a id='eda'></a>\n",
    "## Exploratory Data Analysis\n",
    "\n",
    "> **Tip**: Now that you've trimmed and cleaned your data, you're ready to move on to exploration. Compute statistics and create visualizations with the goal of addressing the research questions that you posed in the Introduction section. It is recommended that you be systematic with your approach. Look at one variable at a time, and then follow it up by looking at relationships between variables.\n"
   ]
  },
  {
   "cell_type": "markdown",
   "metadata": {},
   "source": [
    "- For exploring data, first i am defining all helper functions, those can be used multiple times throughout the project"
   ]
  },
  {
   "cell_type": "markdown",
   "metadata": {},
   "source": [
    "### Helper Functions"
   ]
  },
  {
   "cell_type": "markdown",
   "metadata": {},
   "source": [
    "<a id='svbc'></a>\n",
    "### sort_values_by_column"
   ]
  },
  {
   "cell_type": "code",
   "execution_count": 95,
   "metadata": {},
   "outputs": [],
   "source": [
    "#This function is used to sort the values of dataframe by its column values, in ascending or descending order\n",
    "def sort_values_by_column(movies_df, col_name,  order, num):\n",
    "    \n",
    "    #checking if sort in ascending order or descending order\n",
    "    if order == 'asc': \n",
    "        \n",
    "        #dataframe.sort_values() function will sort the dataframe rows according to specified column\n",
    "        sorted_movies = movies_df.sort_values(by=[col_name], ascending=True).head(num)        \n",
    "    elif order == 'desc':\n",
    "        sorted_movies = movies_df.sort_values(by=[col_name], ascending=False).head(num)\n",
    "        \n",
    "    #assigning custom index to the dataframe\n",
    "    sorted_movies.index = range(num)\n",
    "    return sorted_movies"
   ]
  },
  {
   "cell_type": "markdown",
   "metadata": {},
   "source": [
    "<a id='gp'></a>\n",
    "### get_percentile"
   ]
  },
  {
   "cell_type": "code",
   "execution_count": 96,
   "metadata": {},
   "outputs": [],
   "source": [
    "#This function is used for finding certain percentile(i.e. 20th) for given values\n",
    "def get_percentile(col, percentile):\n",
    "    \n",
    "    #quantile function calculates the given percentile value\n",
    "    return col.quantile(q=percentile)"
   ]
  },
  {
   "cell_type": "markdown",
   "metadata": {},
   "source": [
    "<a id='tmpc'></a>\n",
    "### top50_movies_properties_chart"
   ]
  },
  {
   "cell_type": "code",
   "execution_count": 97,
   "metadata": {},
   "outputs": [],
   "source": [
    "#This function is used for plotting properties of high revenu movies\n",
    "def top50_movies_properties_chart(y_label, col_name, thresold):\n",
    "    \n",
    "    #creating list of 0 to 50\n",
    "    x = range(50)\n",
    "    \n",
    "    #converting column values to list\n",
    "    y = top50_movies_by_revenue[col_name].tolist()\n",
    "    plt.figure(figsize=(12,4))\n",
    "    plt.ticklabel_format(style='plain', axis='y')\n",
    "    sns.barplot(x, y)\n",
    "    plt.xlabel('Top 50 Movies in descending order of revenue')\n",
    "    plt.ylabel(y_label)\n",
    "    plt.axhline(y=thresold, color='r', linestyle='dashdot', linewidth=1.5)"
   ]
  },
  {
   "cell_type": "markdown",
   "metadata": {},
   "source": [
    "<a id='pma'></a>\n",
    "### plot_movies_attrs"
   ]
  },
  {
   "cell_type": "code",
   "execution_count": 98,
   "metadata": {},
   "outputs": [],
   "source": [
    "#This function is used for plotting movies' attributes like revenue, adjusted revenue and genres\n",
    "def plot_movies_attrs(movies_df, rev_col, xticks, x_label, y_label):\n",
    "    x = np.array(range(len(movies_df)))\n",
    "    y = np.array(movies_df[rev_col].tolist())\n",
    "    sns.barplot(range(len(movies_df)), y, palette=\"Blues_d\")\n",
    "    plt.xlabel(x_label)\n",
    "    plt.ylabel(y_label)\n",
    "    plt.xticks(x, xticks, rotation=90)\n",
    "    plt.ticklabel_format(style='plain', axis='y')"
   ]
  },
  {
   "cell_type": "markdown",
   "metadata": {},
   "source": [
    "<a id='egw'></a>\n",
    "### extract_genres_with_moviesInIt"
   ]
  },
  {
   "cell_type": "code",
   "execution_count": 99,
   "metadata": {},
   "outputs": [],
   "source": [
    "#This function is used for getting genres with number of movies in each genre\n",
    "def extract_genres_with_moviesInIt(s_genres):   \n",
    "    \n",
    "    #applying extract_genre() function over all values of s_genre series\n",
    "    s_genres.apply(extract_genre)\n",
    "    df = pd.DataFrame(genre_count, index = [0])\n",
    "    \n",
    "    #this will convert rows->columns (or vice versa)\n",
    "    df = df.transpose()\n",
    "    return df\n"
   ]
  },
  {
   "cell_type": "markdown",
   "metadata": {},
   "source": [
    "<a id='eg'></a>\n",
    "### extract_genre"
   ]
  },
  {
   "cell_type": "code",
   "execution_count": 120,
   "metadata": {},
   "outputs": [],
   "source": [
    "# This function is used to extract genres from each cell of the table \n",
    "# and create dictonary with genre-genre_count pair\n",
    "def extract_genre(s):\n",
    "    \n",
    "    #checking if 's' is the string instance or not and to prevent error from 'nan' instances\n",
    "    if isinstance(s, str):        \n",
    "        list_genres = s.split(\"|\")    \n",
    "        for g in list_genres:\n",
    "            if genre_count.has_key(g):\n",
    "                temp_dict = {g:genre_count.get(g)+1}\n",
    "                genre_count.update(temp_dict)\n",
    "            else:\n",
    "                genre_count.update(({g:1}))     \n"
   ]
  },
  {
   "cell_type": "markdown",
   "metadata": {},
   "source": [
    "### Research Question 1 : Top 10 highest grossing movies by revenue (without adjusted inflation)"
   ]
  },
  {
   "cell_type": "markdown",
   "metadata": {},
   "source": [
    "- For finding top 10 highest grossing movies by revenue, I will simply use helper function <a href=\"#svbc\">sort_values_by_column</a>\n",
    "- By printing the output dataframe, I get all data, which i am interested in knowing, for top 10 highest grossing movies."
   ]
  },
  {
   "cell_type": "code",
   "execution_count": 101,
   "metadata": {},
   "outputs": [
    {
     "name": "stdout",
     "output_type": "stream",
     "text": [
      "       id     budget     revenue  \\\n",
      "0   19995  237000000  2781505847   \n",
      "1  140607  200000000  2068178225   \n",
      "2     597  200000000  1845034188   \n",
      "3   24428  220000000  1519557910   \n",
      "4  135397  150000000  1513528810   \n",
      "5  168259  190000000  1506249360   \n",
      "6   99861  280000000  1405035767   \n",
      "7   12445  125000000  1327817822   \n",
      "8  109445  150000000  1274219009   \n",
      "9   68721  200000000  1215439994   \n",
      "\n",
      "                                 original_title  \\\n",
      "0                                        Avatar   \n",
      "1                  Star Wars: The Force Awakens   \n",
      "2                                       Titanic   \n",
      "3                                  The Avengers   \n",
      "4                                Jurassic World   \n",
      "5                                     Furious 7   \n",
      "6                       Avengers: Age of Ultron   \n",
      "7  Harry Potter and the Deathly Hallows: Part 2   \n",
      "8                                        Frozen   \n",
      "9                                    Iron Man 3   \n",
      "\n",
      "                                                cast                 director  \\\n",
      "0  Sam Worthington|Zoe Saldana|Sigourney Weaver|S...            James Cameron   \n",
      "1  Harrison Ford|Mark Hamill|Carrie Fisher|Adam D...              J.J. Abrams   \n",
      "2  Kate Winslet|Leonardo DiCaprio|Frances Fisher|...            James Cameron   \n",
      "3  Robert Downey Jr.|Chris Evans|Mark Ruffalo|Chr...              Joss Whedon   \n",
      "4  Chris Pratt|Bryce Dallas Howard|Irrfan Khan|Vi...          Colin Trevorrow   \n",
      "5  Vin Diesel|Paul Walker|Jason Statham|Michelle ...                James Wan   \n",
      "6  Robert Downey Jr.|Chris Hemsworth|Mark Ruffalo...              Joss Whedon   \n",
      "7  Daniel Radcliffe|Rupert Grint|Emma Watson|Alan...              David Yates   \n",
      "8  Kristen Bell|Idina Menzel|Jonathan Groff|Josh ...  Chris Buck|Jennifer Lee   \n",
      "9  Robert Downey Jr.|Gwyneth Paltrow|Guy Pearce|D...              Shane Black   \n",
      "\n",
      "   runtime                                     genres  vote_count  \\\n",
      "0      162   Action|Adventure|Fantasy|Science Fiction        8458   \n",
      "1      136   Action|Adventure|Science Fiction|Fantasy        5292   \n",
      "2      194                     Drama|Romance|Thriller        4654   \n",
      "3      143           Science Fiction|Action|Adventure        8903   \n",
      "4      124  Action|Adventure|Science Fiction|Thriller        5562   \n",
      "5      137                      Action|Crime|Thriller        2947   \n",
      "6      141           Action|Adventure|Science Fiction        4304   \n",
      "7      130                   Adventure|Family|Fantasy        3750   \n",
      "8      102                 Animation|Adventure|Family        3369   \n",
      "9      130           Action|Adventure|Science Fiction        6882   \n",
      "\n",
      "   vote_average  release_year  budget_adj  revenue_adj  \n",
      "0           7.1          2009   240886902   2827123750  \n",
      "1           7.5          2015   183999919   1902723129  \n",
      "2           7.3          1997   271692064   2506405735  \n",
      "3           7.3          2012   208943741   1443191435  \n",
      "4           6.5          2015   137999939   1392445892  \n",
      "5           7.3          2015   174799923   1385748801  \n",
      "6           7.4          2015   257599886   1292632336  \n",
      "7           7.7          2011   121174755   1287183997  \n",
      "8           7.5          2013   140405002   1192711491  \n",
      "9           6.9          2013   187206670   1137692372  \n"
     ]
    }
   ],
   "source": [
    "#Using helper function sort_values_by_column() to get the data of top 10 highest grossing movies\n",
    "top10_movies_df = sort_values_by_column(movies_with_non_zero_revenue, 'revenue', 'desc', 10)\n",
    "\n",
    "#print the filtered dataframe\n",
    "print top10_movies_df"
   ]
  },
  {
   "cell_type": "markdown",
   "metadata": {},
   "source": [
    "- To get the direct view of top 10 highest grossing movie names and their revenue, I have plotted *movies->revenues* chart below. For this, first i am extracting movie names from top10_movies_df.\n",
    "- Then, I will simply use helper function <a href=\"#pma\">plot_movies_attrs</a> for plotting."
   ]
  },
  {
   "cell_type": "code",
   "execution_count": 102,
   "metadata": {},
   "outputs": [
    {
     "data": {
      "image/png": "[encoded data removed]",
      "text/plain": [
       "<matplotlib.figure.Figure at 0x7f4a22ba1090>"
      ]
     },
     "metadata": {},
     "output_type": "display_data"
    }
   ],
   "source": [
    "#extracting movie names from top10 movies dataframe\n",
    "movie_names = top10_movies_df['original_title'].tolist()\n",
    "\n",
    "#Using helper function plot_movies_attrs() to plot the graph of movie -> revenue\n",
    "plot_movies_attrs(top10_movies_df, 'revenue', movie_names, 'Movies', 'Revenues in $')"
   ]
  },
  {
   "cell_type": "markdown",
   "metadata": {},
   "source": [
    "### Research Question 2  (Top 10 highest grossing movies by revenue with adjusting inflation)"
   ]
  },
  {
   "cell_type": "markdown",
   "metadata": {},
   "source": [
    "- This question is similar to the first question except, here we are talking about top movies with revenues adjusted for inflation. \n",
    "- If you look at the function <a href=\"#svbc\">sort_values_by_column</a>, It is implemented in a way, so that, I can just change the argument **col_name** to **revenue_adj** for finding answer to this question.\n",
    "- And by outputting the filtered dataframe , i got all datapoints,in which i am interested."
   ]
  },
  {
   "cell_type": "code",
   "execution_count": 103,
   "metadata": {},
   "outputs": [
    {
     "name": "stdout",
     "output_type": "stream",
     "text": [
      "       id     budget     revenue                  original_title  \\\n",
      "0   19995  237000000  2781505847                          Avatar   \n",
      "1      11   11000000   775398007                       Star Wars   \n",
      "2     597  200000000  1845034188                         Titanic   \n",
      "3    9552    8000000   441306145                    The Exorcist   \n",
      "4     578    7000000   470654000                            Jaws   \n",
      "5  140607  200000000  2068178225    Star Wars: The Force Awakens   \n",
      "6     601   10500000   792910554      E.T. the Extra-Terrestrial   \n",
      "7    1642   22000000  1106279658                         The Net   \n",
      "8   12230    4000000   215880014  One Hundred and One Dalmatians   \n",
      "9   24428  220000000  1519557910                    The Avengers   \n",
      "\n",
      "                                                cast  \\\n",
      "0  Sam Worthington|Zoe Saldana|Sigourney Weaver|S...   \n",
      "1  Mark Hamill|Harrison Ford|Carrie Fisher|Peter ...   \n",
      "2  Kate Winslet|Leonardo DiCaprio|Frances Fisher|...   \n",
      "3  Linda Blair|Max von Sydow|Ellen Burstyn|Jason ...   \n",
      "4  Roy Scheider|Robert Shaw|Richard Dreyfuss|Lorr...   \n",
      "5  Harrison Ford|Mark Hamill|Carrie Fisher|Adam D...   \n",
      "6  Henry Thomas|Drew Barrymore|Robert MacNaughton...   \n",
      "7  Sandra Bullock|Jeremy Northam|Dennis Miller|We...   \n",
      "8  Rod Taylor|J. Pat O'Malley|Betty Lou Gerson|Ma...   \n",
      "9  Robert Downey Jr.|Chris Evans|Mark Ruffalo|Chr...   \n",
      "\n",
      "                                            director  runtime  \\\n",
      "0                                      James Cameron      162   \n",
      "1                                       George Lucas      121   \n",
      "2                                      James Cameron      194   \n",
      "3                                   William Friedkin      122   \n",
      "4                                   Steven Spielberg      124   \n",
      "5                                        J.J. Abrams      136   \n",
      "6                                   Steven Spielberg      115   \n",
      "7                                      Irwin Winkler      114   \n",
      "8  Clyde Geronimi|Hamilton Luske|Wolfgang Reitherman       79   \n",
      "9                                        Joss Whedon      143   \n",
      "\n",
      "                                     genres  vote_count  vote_average  \\\n",
      "0  Action|Adventure|Fantasy|Science Fiction        8458           7.1   \n",
      "1          Adventure|Action|Science Fiction        4428           7.9   \n",
      "2                    Drama|Romance|Thriller        4654           7.3   \n",
      "3                     Drama|Horror|Thriller        1113           7.2   \n",
      "4                 Horror|Thriller|Adventure        1415           7.3   \n",
      "5  Action|Adventure|Science Fiction|Fantasy        5292           7.5   \n",
      "6  Science Fiction|Adventure|Family|Fantasy        1830           7.2   \n",
      "7       Crime|Drama|Mystery|Thriller|Action         201           5.6   \n",
      "8         Adventure|Animation|Comedy|Family         913           6.6   \n",
      "9          Science Fiction|Action|Adventure        8903           7.3   \n",
      "\n",
      "   release_year  budget_adj  revenue_adj  \n",
      "0          2009   240886902   2827123750  \n",
      "1          1977    39575591   2789712242  \n",
      "2          1997   271692064   2506405735  \n",
      "3          1973    39289276   2167324901  \n",
      "4          1975    28362748   1907005841  \n",
      "5          2015   183999919   1902723129  \n",
      "6          1982    23726245   1791694309  \n",
      "7          1995    31481271   1583049536  \n",
      "8          1961    29179444   1574814739  \n",
      "9          2012   208943741   1443191435  \n"
     ]
    }
   ],
   "source": [
    "#Using helper function sort_values_by_column() to get dataframe of 'top 10 movies by adjusted revenue'\n",
    "top10_movies_df_adj = sort_values_by_column(movies_with_non_zero_revenue, 'revenue_adj', 'desc', 10)\n",
    "\n",
    "#printing filtered dataframe\n",
    "print top10_movies_df_adj"
   ]
  },
  {
   "cell_type": "markdown",
   "metadata": {},
   "source": [
    "- Similar to question 1, I am plotting chart for *movies->adjusted revenue for inflation* , using <a href=\"#pma\">plot_movies_attrs</a> function for visualization."
   ]
  },
  {
   "cell_type": "code",
   "execution_count": 104,
   "metadata": {},
   "outputs": [
    {
     "data": {
      "image/png": "[encoded data removed]",
      "text/plain": [
       "<matplotlib.figure.Figure at 0x7f4a211b4ed0>"
      ]
     },
     "metadata": {},
     "output_type": "display_data"
    }
   ],
   "source": [
    "#Extracting movie names from top10 movies dataframe\n",
    "movie_names = top10_movies_df_adj['original_title'].tolist()\n",
    "\n",
    "#Plotting movie->adjusted revenue graph by using helper function plot_movies_attrs()\n",
    "plot_movies_attrs(top10_movies_df_adj, 'revenue_adj', movie_names, 'Movies', 'Adjusted Revenues in $')"
   ]
  },
  {
   "cell_type": "markdown",
   "metadata": {},
   "source": [
    "### Research Question 3 : Genres with the number movies made in that"
   ]
  },
  {
   "cell_type": "markdown",
   "metadata": {},
   "source": [
    "- By this question, i intend to find the number of movies made in each genre for the given dataset. When you look at column 'genres' in dataset, you can notice that, each movie falls within multiple genres. \n",
    "- For example, **Jurassic Park** movie has genre data something like - *\"Action|Adventure|Science Fiction|Thriller\"*, which implies jurassic park movie falls in Action, Adventure, Science, Fiction and Thriller genres. So, while counting number of movies for each genre, we will get total genres count greater than total movies. \n",
    "- I am using helper function <a href=\"#egw\">extract_genres_with_moviesInIt</a> to get the count of movies for each genre.\n",
    "- By printing the resultant dataframe, we can get the required values."
   ]
  },
  {
   "cell_type": "code",
   "execution_count": 105,
   "metadata": {},
   "outputs": [
    {
     "name": "stdout",
     "output_type": "stream",
     "text": [
      "                    0\n",
      "Action           2385\n",
      "Adventure        1471\n",
      "Animation         699\n",
      "Comedy           3793\n",
      "Crime            1355\n",
      "Documentary       520\n",
      "Drama            4761\n",
      "Family           1231\n",
      "Fantasy           916\n",
      "Foreign           188\n",
      "History           334\n",
      "Horror           1637\n",
      "Music             408\n",
      "Mystery           810\n",
      "Romance          1712\n",
      "Science Fiction  1230\n",
      "TV Movie          167\n",
      "Thriller         2908\n",
      "War               270\n",
      "Western           165\n"
     ]
    }
   ],
   "source": [
    "# initializing empty dictionary\n",
    "genre_count = dict()\n",
    "\n",
    "#using helper function extract_genres_with_moviesInIt() to convert genre dictionary to dataframe\n",
    "genres_with_genre_count_df = extract_genres_with_moviesInIt(movies['genres'])\n",
    "\n",
    "#print the dataframe\n",
    "print genres_with_genre_count_df"
   ]
  },
  {
   "cell_type": "markdown",
   "metadata": {},
   "source": [
    "- We can notice from output that, if we take the sum of second cloumn(count of movies), it will be ~25000, which is higher than the total movies=10,866 in dataset. As i explained earlier, single movie might be in multiple genres, that's why we are getting this result.\n",
    "- I have plotted *genre->no. of movies in it* graph for better understanding of trend.\n",
    "- I am using function <a href=\"#pma\">plot_movies_attrs</a> for visualizing trend."
   ]
  },
  {
   "cell_type": "code",
   "execution_count": 106,
   "metadata": {},
   "outputs": [
    {
     "data": {
      "image/png": "[encoded data removed]",
      "text/plain": [
       "<matplotlib.figure.Figure at 0x7f4a22940510>"
      ]
     },
     "metadata": {},
     "output_type": "display_data"
    }
   ],
   "source": [
    "#extracting genre names from genre dataframe\n",
    "genre_names = genres_with_genre_count_df.index.values.tolist() \n",
    "\n",
    "#plotting genre->no. of movie in it graph using helper function plot_movies_attrs()\n",
    "plot_movies_attrs(genres_with_genre_count_df, 0, genre_names, 'Genres', 'No. of Movies in genre')"
   ]
  },
  {
   "cell_type": "markdown",
   "metadata": {},
   "source": [
    "- From the plot , we can see that highest number of movies are made in genre **Drama** and lowest number of movies are made in genre **Western**."
   ]
  },
  {
   "cell_type": "markdown",
   "metadata": {},
   "source": [
    "### Research Question 4 : What kinds of properties are associated with movies that have high revenues?"
   ]
  },
  {
   "cell_type": "markdown",
   "metadata": {},
   "source": [
    "- To find the properties associated with movies having high revenues, first i need to find the movies with high revenues.\n",
    "- I hava already defined the funtion <a href=\"#svbc\">sort_values_by_column</a>, which returns the movies in descending order of their revenue. One of the arguments of this function is *num*. If you pass num=10, then this function will return top 10 movies in order. Likewise, If i pass num=50, it will return top 50 movies by revenue in descending order. \n",
    "- Here, I am considering sample of top 50 movies to find the properties of high revenue movies."
   ]
  },
  {
   "cell_type": "code",
   "execution_count": 107,
   "metadata": {},
   "outputs": [],
   "source": [
    "#using helper function sort_values_by_column() to extract 'top50 movies by revenue' from the dataframe\n",
    "top50_movies_by_revenue = sort_values_by_column(movies_with_non_zero_revenue, 'revenue', 'desc', 50)"
   ]
  },
  {
   "cell_type": "markdown",
   "metadata": {},
   "source": [
    "- Printing top few movies from above filtered dataframe to analyze about possible properties."
   ]
  },
  {
   "cell_type": "code",
   "execution_count": 108,
   "metadata": {},
   "outputs": [
    {
     "name": "stdout",
     "output_type": "stream",
     "text": [
      "       id     budget     revenue                original_title  \\\n",
      "0   19995  237000000  2781505847                        Avatar   \n",
      "1  140607  200000000  2068178225  Star Wars: The Force Awakens   \n",
      "2     597  200000000  1845034188                       Titanic   \n",
      "3   24428  220000000  1519557910                  The Avengers   \n",
      "4  135397  150000000  1513528810                Jurassic World   \n",
      "\n",
      "                                                cast         director  \\\n",
      "0  Sam Worthington|Zoe Saldana|Sigourney Weaver|S...    James Cameron   \n",
      "1  Harrison Ford|Mark Hamill|Carrie Fisher|Adam D...      J.J. Abrams   \n",
      "2  Kate Winslet|Leonardo DiCaprio|Frances Fisher|...    James Cameron   \n",
      "3  Robert Downey Jr.|Chris Evans|Mark Ruffalo|Chr...      Joss Whedon   \n",
      "4  Chris Pratt|Bryce Dallas Howard|Irrfan Khan|Vi...  Colin Trevorrow   \n",
      "\n",
      "   runtime                                     genres  vote_count  \\\n",
      "0      162   Action|Adventure|Fantasy|Science Fiction        8458   \n",
      "1      136   Action|Adventure|Science Fiction|Fantasy        5292   \n",
      "2      194                     Drama|Romance|Thriller        4654   \n",
      "3      143           Science Fiction|Action|Adventure        8903   \n",
      "4      124  Action|Adventure|Science Fiction|Thriller        5562   \n",
      "\n",
      "   vote_average  release_year  budget_adj  revenue_adj  \n",
      "0           7.1          2009   240886902   2827123750  \n",
      "1           7.5          2015   183999919   1902723129  \n",
      "2           7.3          1997   271692064   2506405735  \n",
      "3           7.3          2012   208943741   1443191435  \n",
      "4           6.5          2015   137999939   1392445892  \n"
     ]
    }
   ],
   "source": [
    "#printing few rows of top50_movies_by_revenue\n",
    "print top50_movies_by_revenue.head()"
   ]
  },
  {
   "cell_type": "markdown",
   "metadata": {},
   "source": [
    "- From above output, I have decided to consider columns **budget, vote_count, vote_average and runtime**, as they have numerical values. So, i will be able to find descriptive statistics easily for them and will be able to compare them to find relevant properties. Also, I have noticed that **genres** column has some genres in common for multiple movies. Thus, i will consider **genres** column too.\n",
    "- In pandas, we can use describe() function on dataframe to find descriptive statistics.\n",
    "- Notice that i am passing (0.2,0.5,0.75) as argument to describe function. This will make sure that i get 20%, 50% and 75% percentile values. Default values are 25%, 50% and 75%.\n",
    "- After playing around with different percentile values for selected columns, I have come up with the conclusion that top 80% movies from top50 movies have common values. So, we can consider this *80% of 50 = 40* movies for *common properties of high revenue movies*. Hence, taking 20 precentile as thresold value.\n"
   ]
  },
  {
   "cell_type": "code",
   "execution_count": 109,
   "metadata": {},
   "outputs": [
    {
     "name": "stdout",
     "output_type": "stream",
     "text": [
      "             budget   vote_count  vote_average     runtime\n",
      "count  5.000000e+01    50.000000     50.000000   50.000000\n",
      "mean   1.689400e+08  3986.920000      7.006000  138.120000\n",
      "std    7.289618e+07  2037.739252      0.617569   26.960773\n",
      "min    2.200000e+07   201.000000      5.600000   88.000000\n",
      "20%    9.480000e+07  2628.400000      6.380000  112.800000\n",
      "50%    1.550000e+08  3375.500000      7.150000  142.000000\n",
      "75%    2.150000e+08  4999.000000      7.400000  152.750000\n",
      "max    3.800000e+08  9767.000000      8.100000  201.000000\n"
     ]
    }
   ],
   "source": [
    "#find descriptive statistics for top50 movies\n",
    "top50_movies_stats = top50_movies_by_revenue[['budget', 'vote_count', 'vote_average', 'runtime']].describe \\\n",
    "                     ([0.20, .5, .75])\n",
    "#print stats    \n",
    "print top50_movies_stats     "
   ]
  },
  {
   "cell_type": "markdown",
   "metadata": {},
   "source": [
    "- From the output, it is visible that 'budget' column has scientific values and other columns have values upto 6 decimal points. So, i need to fix this first by rounding these values."
   ]
  },
  {
   "cell_type": "code",
   "execution_count": 110,
   "metadata": {},
   "outputs": [
    {
     "name": "stdout",
     "output_type": "stream",
     "text": [
      "            budget  vote_count  vote_average  runtime\n",
      "count         50.0      50.000        50.000   50.000\n",
      "mean   168940000.0    3986.920         7.006  138.120\n",
      "std     72896183.0    2037.739         0.618   26.961\n",
      "min     22000000.0     201.000         5.600   88.000\n",
      "20%     94800000.0    2628.400         6.380  112.800\n",
      "50%    155000000.0    3375.500         7.150  142.000\n",
      "75%    215000000.0    4999.000         7.400  152.750\n",
      "max    380000000.0    9767.000         8.100  201.000\n"
     ]
    }
   ],
   "source": [
    "#rounding values of budget coulmn\n",
    "top50_movies_stats['budget'] = top50_movies_stats['budget'].round()\n",
    "\n",
    "#print dataframe\n",
    "print top50_movies_stats.round(3)"
   ]
  },
  {
   "cell_type": "markdown",
   "metadata": {},
   "source": [
    "- From this descriptive statistics, we can see that average budget for top movies is \\$168 million. Also vote count average is ~4000 which is quite high. Mean for vote_average/rating is ~7 out of 10.\n",
    "- Now look at the thresold value of percentile 20, which describes, 80% of movies have higher values than value at this thresold point. From this, at **somewhat extent**, we can describe following general properties for top 80% movies : \n",
    "\n",
    "    - These movies have budget over ~$95 million\n",
    "    - Vote count over ~2600\n",
    "    - Ratings over ~6.4\n",
    "    - Runtime of the movies over ~110 minutes\n",
    "- Next for genre column, I am using function <a href=\"#egw\">extract_genres_with_moviesInIt</a> to extract genres with number of movies in each genre for analyzing."
   ]
  },
  {
   "cell_type": "code",
   "execution_count": 111,
   "metadata": {},
   "outputs": [
    {
     "name": "stdout",
     "output_type": "stream",
     "text": [
      "                  0\n",
      "Action           28\n",
      "Adventure        40\n",
      "Animation         9\n",
      "Comedy            7\n",
      "Crime             5\n",
      "Drama             5\n",
      "Family           17\n",
      "Fantasy          23\n",
      "Mystery           3\n",
      "Romance           2\n",
      "Science Fiction  14\n",
      "Thriller          9\n"
     ]
    }
   ],
   "source": [
    "#re-initializing genre dictionary\n",
    "genre_count = dict()\n",
    "\n",
    "#extracting genres with number of movies using helper function extract_genres_with_moviesInIt()\n",
    "top_genres_df = extract_genres_with_moviesInIt(top50_movies_by_revenue['genres'])\n",
    "\n",
    "#print genres with movie count\n",
    "print top_genres_df"
   ]
  },
  {
   "cell_type": "markdown",
   "metadata": {},
   "source": [
    "- From the output, we can see that top movies have common genres like 'Adventure' and 'Action'. \n",
    "\n",
    "#### Visualization for properties of high revenue movies\n",
    "\n",
    "- I have plotted 4 grahs based on above results to check the pattern for top revenue movies and to decide **probable** properties of high revenue movies.\n",
    "\n",
    "- I have used function <a href=\"#tmpc\">top50_movies_properties_chart</a> to draw each graph. I have used function <a href=\"#gp\"> get_percentile</a> to calculate thresold percentile and pass it as argument to the top50_movies_properties_chart().\n",
    "- Also, i have drawn a line with red color parallel to x-axis and starting from thresold point on y-axis. This is thresold line. \n",
    "- Above the thresold line resides the values of top 80% movies from top50 movies. So, from thresold line, we can check for the high revenue movies' common properties in graphs."
   ]
  },
  {
   "cell_type": "code",
   "execution_count": 112,
   "metadata": {},
   "outputs": [
    {
     "data": {
      "image/png": "[encoded data removed]",
      "text/plain": [
       "<matplotlib.figure.Figure at 0x7f4a22940890>"
      ]
     },
     "metadata": {},
     "output_type": "display_data"
    }
   ],
   "source": [
    "#Graph 1, movies -> budget\n",
    "\n",
    "#using helper function top50_movies_properties_chart() to plot the bar chart\n",
    "top50_movies_properties_chart('Budget in $', 'budget', get_percentile(top50_movies_by_revenue.budget, 0.2))"
   ]
  },
  {
   "cell_type": "code",
   "execution_count": 113,
   "metadata": {},
   "outputs": [
    {
     "data": {
      "image/png": "[encoded data removed]",
      "text/plain": [
       "<matplotlib.figure.Figure at 0x7f4a211def50>"
      ]
     },
     "metadata": {},
     "output_type": "display_data"
    }
   ],
   "source": [
    "#Graph 2, movies -> vote_count\n",
    "\n",
    "#using helper function top50_movies_properties_chart() to plot the bar chart\n",
    "top50_movies_properties_chart('Vote Count', 'vote_count', get_percentile(top50_movies_by_revenue.vote_count, 0.2))"
   ]
  },
  {
   "cell_type": "code",
   "execution_count": 114,
   "metadata": {},
   "outputs": [
    {
     "data": {
      "image/png": "[encoded data removed]",
      "text/plain": [
       "<matplotlib.figure.Figure at 0x7f4a21239e50>"
      ]
     },
     "metadata": {},
     "output_type": "display_data"
    }
   ],
   "source": [
    "#Graph 3, movies -> vote_average/rating\n",
    "\n",
    "#using helper function top50_movies_properties_chart() to plot the bar chart\n",
    "top50_movies_properties_chart('Rating', 'vote_average', get_percentile(top50_movies_by_revenue.vote_average, 0.2))"
   ]
  },
  {
   "cell_type": "code",
   "execution_count": 115,
   "metadata": {},
   "outputs": [
    {
     "data": {
      "image/png": "[encoded data removed]",
      "text/plain": [
       "<matplotlib.figure.Figure at 0x7f4a222e8150>"
      ]
     },
     "metadata": {},
     "output_type": "display_data"
    }
   ],
   "source": [
    "#Graph 4, movies -> runtime\n",
    "\n",
    "#using helper function top50_movies_properties_chart() to plot the bar chart\n",
    "top50_movies_properties_chart('Runtime in minutes', 'runtime', get_percentile(top50_movies_by_revenue.runtime, 0.2))"
   ]
  },
  {
   "cell_type": "markdown",
   "metadata": {},
   "source": [
    "<a id='conclusions'></a>\n",
    "## Conclusions"
   ]
  },
  {
   "cell_type": "markdown",
   "metadata": {},
   "source": [
    "> Top 10 highest grossing movies by revenue (without adjusted for inflation) "
   ]
  },
  {
   "cell_type": "code",
   "execution_count": 116,
   "metadata": {},
   "outputs": [
    {
     "name": "stdout",
     "output_type": "stream",
     "text": [
      "0                                          Avatar\n",
      "1                    Star Wars: The Force Awakens\n",
      "2                                         Titanic\n",
      "3                                    The Avengers\n",
      "4                                  Jurassic World\n",
      "5                                       Furious 7\n",
      "6                         Avengers: Age of Ultron\n",
      "7    Harry Potter and the Deathly Hallows: Part 2\n",
      "8                                          Frozen\n",
      "9                                      Iron Man 3\n",
      "Name: original_title, dtype: object\n"
     ]
    }
   ],
   "source": [
    "#here i am only printing movie titles\n",
    "print top10_movies_df['original_title']"
   ]
  },
  {
   "cell_type": "markdown",
   "metadata": {},
   "source": [
    "> Top 10 highest grossing movies by revenue (with adjusted for inflation)"
   ]
  },
  {
   "cell_type": "code",
   "execution_count": 117,
   "metadata": {},
   "outputs": [
    {
     "name": "stdout",
     "output_type": "stream",
     "text": [
      "0                            Avatar\n",
      "1                         Star Wars\n",
      "2                           Titanic\n",
      "3                      The Exorcist\n",
      "4                              Jaws\n",
      "5      Star Wars: The Force Awakens\n",
      "6        E.T. the Extra-Terrestrial\n",
      "7                           The Net\n",
      "8    One Hundred and One Dalmatians\n",
      "9                      The Avengers\n",
      "Name: original_title, dtype: object\n"
     ]
    }
   ],
   "source": [
    "##here i am only printing movie titles\n",
    "print top10_movies_df_adj['original_title']"
   ]
  },
  {
   "cell_type": "markdown",
   "metadata": {},
   "source": [
    "> Genres with number of movies made in that"
   ]
  },
  {
   "cell_type": "code",
   "execution_count": 118,
   "metadata": {},
   "outputs": [
    {
     "name": "stdout",
     "output_type": "stream",
     "text": [
      "                    0\n",
      "Action           2385\n",
      "Adventure        1471\n",
      "Animation         699\n",
      "Comedy           3793\n",
      "Crime            1355\n",
      "Documentary       520\n",
      "Drama            4761\n",
      "Family           1231\n",
      "Fantasy           916\n",
      "Foreign           188\n",
      "History           334\n",
      "Horror           1637\n",
      "Music             408\n",
      "Mystery           810\n",
      "Romance          1712\n",
      "Science Fiction  1230\n",
      "TV Movie          167\n",
      "Thriller         2908\n",
      "War               270\n",
      "Western           165\n"
     ]
    }
   ],
   "source": [
    "print genres_with_genre_count_df"
   ]
  },
  {
   "cell_type": "markdown",
   "metadata": {},
   "source": [
    "> Common properties of high revenue movies\n",
    "- These properties are filterd based on only top 40(80%) movies. So, we cannot conclude/predict anything like, if we make movie with budget over $100 million then it is sure to earn high revenue. Also, it is not necessary that this properties are 100% true."
   ]
  },
  {
   "cell_type": "markdown",
   "metadata": {},
   "source": [
    "- Budget > ~$95 million\n",
    "- Vote count > ~2600\n",
    "- Ratings > ~6.4 (out of 10)\n",
    "- Runtime > ~110 minutes\n",
    "- Common genres : 'Adventure', 'Action'"
   ]
  },
  {
   "cell_type": "markdown",
   "metadata": {},
   "source": [
    "## This concludes my Report!"
   ]
  }
 ],
 "metadata": {
  "kernelspec": {
   "display_name": "Python 2",
   "language": "python",
   "name": "python2"
  },
  "language_info": {
   "codemirror_mode": {
    "name": "ipython",
    "version": 2
   },
   "file_extension": ".py",
   "mimetype": "text/x-python",
   "name": "python",
   "nbconvert_exporter": "python",
   "pygments_lexer": "ipython2",
   "version": "2.7.14"
  }
 },
 "nbformat": 4,
 "nbformat_minor": 2
}
